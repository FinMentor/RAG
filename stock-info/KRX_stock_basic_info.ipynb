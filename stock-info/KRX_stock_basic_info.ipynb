{
 "cells": [
  {
   "cell_type": "code",
   "execution_count": null,
   "metadata": {},
   "outputs": [],
   "source": [
    "%pip install pykrx pymysql mysql-connector-python sqlalchemy"
   ]
  },
  {
   "cell_type": "code",
   "execution_count": null,
   "metadata": {},
   "outputs": [],
   "source": [
    "%pip install --upgrade nbstripout"
   ]
  },
  {
   "cell_type": "code",
   "execution_count": null,
   "metadata": {},
   "outputs": [],
   "source": [
    "from pykrx import stock\n",
    "stock.get_previous_business_days(year=2024, month=10)"
   ]
  },
  {
   "cell_type": "code",
   "execution_count": 100,
   "metadata": {},
   "outputs": [],
   "source": [
    "import os\n",
    "from dotenv import load_dotenv\n",
    "from pykrx import stock\n",
    "from pykrx import bond\n",
    "\n",
    "load_dotenv()\n",
    "\n",
    "KIS_APP_KEY = os.getenv(\"KIS_APP_KEY\")\n",
    "KIS_APP_SECRET = os.getenv(\"KIS_APP_SECRET\")\n",
    "KIS_ACC_NO = os.getenv(\"KIS_ACC_NO\")\n",
    "DB_HOST = os.getenv(\"DB_HOST\")\n",
    "DB_USERNAME = os.getenv(\"DB_USERNAME\")\n",
    "DB_PASSWORD = os.getenv(\"DB_PASSWORD\")\n",
    "DB_SCHEME = os.getenv(\"DB_SCHEME\")\n",
    "DB_PORT = os.getenv(\"DB_PORT\")\n"
   ]
  },
  {
   "cell_type": "code",
   "execution_count": 101,
   "metadata": {},
   "outputs": [],
   "source": [
    "import pandas as pd\n",
    "import requests as rq\n",
    "from sqlalchemy import create_engine\n",
    "from io import StringIO\n",
    "\n",
    "\n",
    "def get_krx_otp(otp_params, headers):\n",
    "  krx_gen_otp_url = 'http://data.krx.co.kr/comm/fileDn/GenerateOTP/generate.cmd'\n",
    "  krx_otp = rq.post(krx_gen_otp_url, otp_params, headers = headers).text\n",
    "  return krx_otp\n",
    "\n",
    "def download_krx_index(at_date, market = None):\n",
    "  if not market:\n",
    "    kospi_df = download_krx_index(at_date, 'KOSPI')\n",
    "    kosdaq_df = download_krx_index(at_date, 'KOSDAQ')\n",
    "    return pd.concat([kospi_df, kosdaq_df])\n",
    "\n",
    "  headers = {             \n",
    "    \"User-Agent\": \"Mozilla/5.0\",\n",
    "    \"Referer\": \"http://data.krx.co.kr/\"\n",
    "  }\n",
    "  otp_params = {\n",
    "      'locale': 'ko_KR',\n",
    "      'trdDd': at_date,\n",
    "      'money': '1',\n",
    "      'csvxls_isNo': 'false',\n",
    "      'name': 'fileDown',\n",
    "      'url': 'dbms/MDC/STAT/standard/MDCSTAT03501'\n",
    "  }\n",
    "  if market == 'KOSPI':\n",
    "    otp_params |= { 'mktId': 'STK' }\n",
    "  elif market == 'KOSDAQ':\n",
    "    otp_params |= { 'mktId': 'KSQ', 'segTpCd': 'ALL' }\n",
    "\n",
    "  otp = get_krx_otp(otp_params, headers)\n",
    "\n",
    "  download_url = 'http://data.krx.co.kr/comm/fileDn/download_csv/download.cmd'\n",
    "  download_params = {\n",
    "      'code': otp\n",
    "  }\n",
    "  res = rq.post(download_url, download_params, headers = headers)\n",
    "  res.encoding = 'euc-kr'\n",
    "  return pd.read_csv(StringIO(res.text))\n",
    "\n",
    "\n",
    "\n",
    "def download_krx_sector(at_date, market = None):\n",
    "  if not market:\n",
    "    kospi_df = download_krx_sector(at_date, 'KOSPI')\n",
    "    kosdaq_df = download_krx_sector(at_date, 'KOSDAQ')\n",
    "    return pd.concat([kospi_df, kosdaq_df])\n",
    "\n",
    "  headers = {             \n",
    "    \"User-Agent\": \"Mozilla/5.0\",\n",
    "    \"Referer\": \"http://data.krx.co.kr/\"\n",
    "  }\n",
    "  otp_params = {\n",
    "      'locale': 'ko_KR',\n",
    "      'trdDd': at_date,\n",
    "      'money': '1',\n",
    "      'csvxls_isNo': 'false',\n",
    "      'name': 'fileDown',\n",
    "      'url': 'dbms/MDC/STAT/standard/MDCSTAT01901'\n",
    "  }\n",
    "  if market == 'KOSPI':\n",
    "    otp_params |= { 'mktId': 'STK' }\n",
    "  elif market == 'KOSDAQ':\n",
    "    otp_params |= { 'mktId': 'KSQ', 'segTpCd': 'ALL' }\n",
    "\n",
    "  otp = get_krx_otp(otp_params, headers)\n",
    "\n",
    "  download_url = 'http://data.krx.co.kr/comm/fileDn/download_csv/download.cmd'\n",
    "  download_params = {\n",
    "      'code': otp\n",
    "  }\n",
    "  res = rq.post(download_url, download_params, headers = headers)\n",
    "  res.encoding = 'euc-kr'\n",
    "  return pd.read_csv(StringIO(res.text))\n",
    "\n",
    "\n",
    "def download_stock_category(at_date, market = None):\n",
    "  if not market:\n",
    "    kospi_df = download_stock_category(at_date, 'KOSPI')\n",
    "    kosdaq_df = download_stock_category(at_date, 'KOSDAQ')\n",
    "    return pd.concat([kospi_df, kosdaq_df])\n",
    "\n",
    "  headers = {             \n",
    "    \"User-Agent\": \"Mozilla/5.0\",\n",
    "    \"Referer\": \"http://data.krx.co.kr/\"\n",
    "  }\n",
    "  otp_params = {\n",
    "      'locale': 'ko_KR',\n",
    "      'trdDd': at_date,\n",
    "      'money': '1',\n",
    "      'csvxls_isNo': 'false',\n",
    "      'name': 'fileDown',\n",
    "      'url': 'dbms/MDC/STAT/standard/MDCSTAT03901'\n",
    "  }\n",
    "  if market == 'KOSPI':\n",
    "    otp_params |= { 'mktId': 'STK' }\n",
    "  elif market == 'KOSDAQ':\n",
    "    otp_params |= { 'mktId': 'KSQ', 'segTpCd': 'ALL' }\n",
    "\n",
    "  otp = get_krx_otp(otp_params, headers)\n",
    "\n",
    "  download_url = 'http://data.krx.co.kr/comm/fileDn/download_csv/download.cmd'\n",
    "  download_params = {\n",
    "      'code': otp\n",
    "  }\n",
    "  res = rq.post(download_url, download_params, headers = headers)\n",
    "  res.encoding = 'euc-kr'\n",
    "  return pd.read_csv(StringIO(res.text))\n",
    "\n",
    "def fetchSubCategory():\n",
    "  engine = create_engine(f'mysql+pymysql://{DB_USERNAME}:{DB_PASSWORD}@{DB_HOST}:{DB_PORT}/{DB_SCHEME}')\n",
    "\n",
    "  query = \"SELECT SUB_CATEGORY_ID, SUB_CATEGORY_NAME FROM SUB_CATEGORY\"\n",
    "  news_data = pd.read_sql(query, engine)\n",
    "\n",
    "  return news_data\n",
    "\n",
    "def fetchMainCategory():\n",
    "  engine = create_engine(f'mysql+pymysql://{DB_USERNAME}:{DB_PASSWORD}@{DB_HOST}:{DB_PORT}/{DB_SCHEME}')\n",
    "\n",
    "  query = \"SELECT MAIN_CATEGORY_ID, MAIN_CATEGORY_NAME FROM MAIN_CATEGORY\"\n",
    "  news_data = pd.read_sql(query, engine)\n",
    "\n",
    "  return news_data\n"
   ]
  },
  {
   "cell_type": "code",
   "execution_count": 102,
   "metadata": {},
   "outputs": [],
   "source": [
    "import datetime\n",
    "\n",
    "# 현재 날짜를 YYYYMMDD 형식으로 변환\n",
    "now = datetime.datetime.now()\n",
    "# current_date_str = now.strftime('%Y%m%d')\n",
    "current_date_str='20241010'"
   ]
  },
  {
   "cell_type": "code",
   "execution_count": 103,
   "metadata": {},
   "outputs": [],
   "source": [
    "df_info = download_krx_sector(current_date_str)"
   ]
  },
  {
   "cell_type": "code",
   "execution_count": 104,
   "metadata": {},
   "outputs": [],
   "source": [
    "\n",
    "df_index = download_krx_index(current_date_str)"
   ]
  },
  {
   "cell_type": "code",
   "execution_count": 105,
   "metadata": {},
   "outputs": [],
   "source": [
    "sub_category_data = fetchSubCategory()\n",
    "\n",
    "main_category_data = fetchMainCategory()"
   ]
  },
  {
   "cell_type": "code",
   "execution_count": 106,
   "metadata": {},
   "outputs": [],
   "source": [
    "stock_category_data = download_stock_category(current_date_str)"
   ]
  },
  {
   "cell_type": "code",
   "execution_count": 107,
   "metadata": {},
   "outputs": [],
   "source": [
    "stock_category_data = stock_category_data[['종목코드', '업종명']]"
   ]
  },
  {
   "cell_type": "code",
   "execution_count": 108,
   "metadata": {},
   "outputs": [],
   "source": [
    "stock_category_data.rename(columns={'종목코드':'SHORT_CODE','업종명':'SUB_CATEGORY_NAME'}, inplace=True)"
   ]
  },
  {
   "cell_type": "code",
   "execution_count": null,
   "metadata": {},
   "outputs": [],
   "source": [
    "stock_category_data"
   ]
  },
  {
   "cell_type": "code",
   "execution_count": null,
   "metadata": {},
   "outputs": [],
   "source": [
    "sub_category_data"
   ]
  },
  {
   "cell_type": "code",
   "execution_count": 111,
   "metadata": {},
   "outputs": [],
   "source": [
    "merged_stock_category = pd.merge(stock_category_data, sub_category_data, on='SUB_CATEGORY_NAME', how='inner')"
   ]
  },
  {
   "cell_type": "code",
   "execution_count": null,
   "metadata": {},
   "outputs": [],
   "source": [
    "merged_stock_category"
   ]
  },
  {
   "cell_type": "code",
   "execution_count": null,
   "metadata": {},
   "outputs": [],
   "source": [
    "df_info"
   ]
  },
  {
   "cell_type": "code",
   "execution_count": null,
   "metadata": {},
   "outputs": [],
   "source": [
    "df_index"
   ]
  },
  {
   "cell_type": "code",
   "execution_count": 115,
   "metadata": {},
   "outputs": [],
   "source": [
    "df_info_mapping = {\n",
    "    '단축코드': 'SHORT_CODE',\n",
    "}\n",
    "\n",
    "df_index_mapping = {\n",
    "    '종목코드': 'SHORT_CODE',\n",
    "}\n",
    "\n",
    "# 컬럼명 매핑 적용\n",
    "df_info.rename(columns=df_info_mapping, inplace=True)\n",
    "df_index.rename(columns=df_index_mapping, inplace=True)"
   ]
  },
  {
   "cell_type": "code",
   "execution_count": 116,
   "metadata": {},
   "outputs": [],
   "source": [
    "df_info_index = pd.merge(df_info, df_index, on='SHORT_CODE', how='outer')\n",
    "df_info_index_stock_category = pd.merge(df_info_index, merged_stock_category, on=\"SHORT_CODE\", how='inner')"
   ]
  },
  {
   "cell_type": "code",
   "execution_count": null,
   "metadata": {},
   "outputs": [],
   "source": [
    "df_info_index_stock_category"
   ]
  },
  {
   "cell_type": "code",
   "execution_count": 118,
   "metadata": {},
   "outputs": [],
   "source": [
    "merged_df_column_mapping = {\n",
    "    '단축코드': 'SHORT_CODE',\n",
    "    # '서브카테고리' : 'SUB_CATEGORY_ID',\n",
    "    '한글 종목약명': 'STOCK_NAME',\n",
    "    '표준코드': 'STANDARD_CODE',\n",
    "    '시장구분': 'STOCK_EXCHANGE_MARKET',\n",
    "    '상장주식수': 'MARKET_CAPITALIZATION',\n",
    "    '시가': 'OPEN_PRICE',\n",
    "    '종가': 'CLOSED_PRICE',\n",
    "    '고가': 'HIGH_PRICE',\n",
    "    '저가': 'LOW_PRICE',\n",
    "    '거래정지': 'STOCK_TRADE_STATUS',\n",
    "}\n",
    "\n",
    "\n",
    "df_info_index_stock_category.rename(columns=merged_df_column_mapping, inplace=True)"
   ]
  },
  {
   "cell_type": "code",
   "execution_count": 119,
   "metadata": {},
   "outputs": [],
   "source": [
    "\n",
    "real_index = [\n",
    " 'SHORT_CODE',\n",
    " 'STOCK_NAME',\n",
    " 'SUB_CATEGORY_ID',\n",
    " 'STANDARD_CODE',\n",
    " 'STOCK_EXCHANGE_MARKET',\n",
    " 'MARKET_CAPITALIZATION',\n",
    " 'EPS',\n",
    " 'PER',\n",
    " 'BPS',\n",
    " 'PBR',\n",
    "]\n",
    "\n",
    "df_info_index_stock_category = df_info_index_stock_category[real_index]"
   ]
  },
  {
   "cell_type": "code",
   "execution_count": null,
   "metadata": {},
   "outputs": [],
   "source": [
    "df_info_index_stock_category"
   ]
  },
  {
   "cell_type": "code",
   "execution_count": null,
   "metadata": {},
   "outputs": [],
   "source": [
    "# 해당 데이터가 확보 안된 경우 사용\n",
    "for column in [\n",
    " 'STOCK_TRADE_STATUS']:\n",
    "    if column not in df_info_index_stock_category.columns:\n",
    "        df_info_index_stock_category[column] = 'A'\n"
   ]
  },
  {
   "cell_type": "code",
   "execution_count": null,
   "metadata": {},
   "outputs": [],
   "source": [
    "df_info_index_stock_category['STOCK_EXCHANGE_MARKET'] = df_info_index_stock_category['STOCK_EXCHANGE_MARKET'].map({'KOSPI': \"0\", 'KOSDAQ': \"1\", \"KOSDAQ GLOBAL\" : \"1\"})"
   ]
  },
  {
   "cell_type": "code",
   "execution_count": null,
   "metadata": {},
   "outputs": [],
   "source": [
    "df_info_index_stock_category"
   ]
  },
  {
   "cell_type": "code",
   "execution_count": 124,
   "metadata": {},
   "outputs": [],
   "source": [
    "df_info_index_stock_category = df_info_index_stock_category[df_info_index_stock_category['STANDARD_CODE'].notna()]"
   ]
  },
  {
   "cell_type": "code",
   "execution_count": null,
   "metadata": {},
   "outputs": [],
   "source": [
    "from sqlalchemy import create_engine\n",
    "from sqlalchemy import text\n",
    "# MySQL 데이터베이스 연결 설정\n",
    "# db_username = DB_USERNAME\n",
    "# db_password = DB_PASSWORD\n",
    "# db_host = DB_HOST\n",
    "# db_name = DB_SCHEME\n",
    "# db_port = DB_PORT\n",
    "\n",
    "# SQLAlchemy 엔진 생성\n",
    "engine = create_engine(f'mysql+pymysql://{DB_USERNAME}:{DB_PASSWORD}@{DB_HOST}:{DB_PORT}/{DB_SCHEME}')\n",
    "\n",
    "df_info_index_stock_category.to_sql(name='TEMP_STOCK', con=engine, if_exists='append', index=False)\n",
    "\n",
    "# 업데이트 쿼리 작성\n",
    "update_query = \"\"\"\n",
    "INSERT INTO STOCK (SHORT_CODE, SUB_CATEGORY_ID, STOCK_NAME, STANDARD_CODE, STOCK_EXCHANGE_MARKET, \n",
    "                   EPS, PER, BPS, PBR, MARKET_CAPITALIZATION, STOCK_TRADE_STATUS, UPDATED_AT)\n",
    "SELECT SHORT_CODE, SUB_CATEGORY_ID, STOCK_NAME, STANDARD_CODE, STOCK_EXCHANGE_MARKET, \n",
    "       EPS, PER, BPS, PBR, MARKET_CAPITALIZATION, STOCK_TRADE_STATUS, NOW()\n",
    "FROM TEMP_STOCK\n",
    "ON DUPLICATE KEY UPDATE \n",
    "    SUB_CATEGORY_ID = VALUES(SUB_CATEGORY_ID),\n",
    "    STOCK_NAME = VALUES(STOCK_NAME),\n",
    "    STANDARD_CODE = VALUES(STANDARD_CODE),\n",
    "    STOCK_EXCHANGE_MARKET = VALUES(STOCK_EXCHANGE_MARKET),\n",
    "    EPS = VALUES(EPS),\n",
    "    PER = VALUES(PER),\n",
    "    BPS = VALUES(BPS),\n",
    "    PBR = VALUES(PBR),\n",
    "    MARKET_CAPITALIZATION = VALUES(MARKET_CAPITALIZATION),\n",
    "    STOCK_TRADE_STATUS = VALUES(STOCK_TRADE_STATUS),\n",
    "    UPDATED_AT = NOW();\n",
    "\"\"\"\n",
    "\n",
    "# SQL 쿼리 실행\n",
    "with engine.connect() as connection:\n",
    "    connection.execute(text(update_query))\n",
    "\n",
    "# 임시 테이블 삭제\n",
    "# with engine.connect() as connection:\n",
    "#     connection.execute(text(\"DROP TABLE TEMP_STOCK\"))\n"
   ]
  },
  {
   "cell_type": "code",
   "execution_count": null,
   "metadata": {},
   "outputs": [],
   "source": []
  }
 ],
 "metadata": {
  "kernelspec": {
   "display_name": "gpt4all",
   "language": "python",
   "name": "python3"
  },
  "language_info": {
   "codemirror_mode": {
    "name": "ipython",
    "version": 3
   },
   "file_extension": ".py",
   "mimetype": "text/x-python",
   "name": "python",
   "nbconvert_exporter": "python",
   "pygments_lexer": "ipython3",
   "version": "3.12.5"
  }
 },
 "nbformat": 4,
 "nbformat_minor": 2
}
